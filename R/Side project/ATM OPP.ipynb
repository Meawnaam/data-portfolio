{
  "nbformat": 4,
  "nbformat_minor": 0,
  "metadata": {
    "colab": {
      "provenance": []
    },
    "kernelspec": {
      "name": "python3",
      "display_name": "Python 3"
    },
    "language_info": {
      "name": "python"
    }
  },
  "cells": [
    {
      "cell_type": "code",
      "execution_count": null,
      "metadata": {
        "id": "FhojsmYXGf23"
      },
      "outputs": [],
      "source": [
        "class ATM :\n",
        "    def __init__(self, name, account_number, balance = 0) :\n",
        "        self.name = name\n",
        "        self.account_number = account_number\n",
        "        self.balance = balance\n",
        "\n",
        "    def account_detail(self) :\n",
        "        print(\"Account detail\")\n",
        "        print(\"_________\")\n",
        "        print(f\"Account holder : {self.name.upper()}\")\n",
        "        print(f\"Account number : {self.account_number}\")\n",
        "        print(f\"Cash balance : {self.balance} THB\")\n",
        "\n",
        "    def check_balance(self) :\n",
        "        print(f\"Avaliable balance : {self.balance} THB\")\n",
        "\n",
        "    def deposit(self, amount) :\n",
        "        self.amount = amount\n",
        "        print(f\"Cash balance : {self.balance} THB\")\n",
        "        print(f\"{self.amount} has been deposit into account {self.account_number}. \")\n",
        "        self.balance += self.amount\n",
        "        print(f\"Your account balance is {self.balance} THB.\\n\")\n",
        "        print(\"----------------------------------------\")\n",
        "        print(\"Printing receipt\")\n",
        "        print(\"Thank you for choosing us as your bank\")\n",
        "\n",
        "    def withdraw(self) :\n",
        "        while True :\n",
        "            print(\"Withdraw menu\")\n",
        "            print(\"press 1 to go back\")\n",
        "            print(\"press 2 to withdraw\")\n",
        "            user_input = input(f\"{self.name.upper()} choose: \")\n",
        "            if user_input == \"1\" :\n",
        "                break\n",
        "\n",
        "            elif user_input == \"2\" :\n",
        "                while True :\n",
        "                    print(\"----------------------------------------\")\n",
        "                    amount = int(input(\"How much do you want to withdraw? \"))\n",
        "                    if amount > self.balance :\n",
        "                        print(f\"Pleae try again ! your balance is {self.balance} THB.\")\n",
        "                        print(\"Not enough to make a transaction\")\n",
        "\n",
        "                    else :\n",
        "                        self.balance -= amount\n",
        "                        print(\"\\n\")\n",
        "                        print(\"Your transaction is success !\")\n",
        "                        print(f\"You have withdraw {amount} THB.\")\n",
        "                        print(f\"{self.balance} THB is balance in your account\")\n",
        "                        print(\"----------------------------------------\")\n",
        "                        print(\"Printing receipt\")\n",
        "                        print(\"Thank you for choosing us as your bank\")\n",
        "                        break\n",
        "                break\n",
        "            else :\n",
        "                print(\"Invalid input. Please try again\")\n",
        "\n",
        "\n",
        "    def transfer(self, amount , receiver_number):\n",
        "        self.amount = amount\n",
        "        if self.amount > self.balance :\n",
        "            print(f\"Please try again ! your balance is {self.balance} THB. \")\n",
        "            print(\"Not enough to make a transaction\")\n",
        "\n",
        "        else :\n",
        "            self.balance -= self.amount\n",
        "            print(f\"{self.amount} THB has been transferred to account {receiver_number}.\")\n",
        "            print(f\"{self.balance} THB is balance in your account\")\n",
        "            print(\"----------------------------------------\")\n",
        "            print(\"Printing receipt\")\n",
        "            print(\"Thank you for choosing us as your bank\")\n",
        "\n",
        "\n",
        "\n",
        "\n",
        "\n",
        "\n"
      ]
    },
    {
      "cell_type": "code",
      "source": [
        "atm1 = ATM(\"mart\", \"1111254\", 500)"
      ],
      "metadata": {
        "id": "b2EAEsiwQhm2"
      },
      "execution_count": null,
      "outputs": []
    },
    {
      "cell_type": "code",
      "source": [
        "atm1.account_detail()"
      ],
      "metadata": {
        "colab": {
          "base_uri": "https://localhost:8080/"
        },
        "id": "-ZpxvK7jt79x",
        "outputId": "af0e79d7-a3aa-4838-d54d-3695a5a1b224"
      },
      "execution_count": null,
      "outputs": [
        {
          "output_type": "stream",
          "name": "stdout",
          "text": [
            "Account detail\n",
            "_________\n",
            "Account holder : MART\n",
            "Account number : 1111254\n",
            "Cash balance : 500 THB\n"
          ]
        }
      ]
    },
    {
      "cell_type": "code",
      "source": [
        "atm1.deposit(1000)"
      ],
      "metadata": {
        "colab": {
          "base_uri": "https://localhost:8080/"
        },
        "id": "T4qv2qtJQrgE",
        "outputId": "64d10f4f-8332-45cd-aff5-0b7fc5870b6b"
      },
      "execution_count": null,
      "outputs": [
        {
          "output_type": "stream",
          "name": "stdout",
          "text": [
            "Cash balance : 500 THB\n",
            "1000 has been deposit into account 1111254. \n",
            "Your account balance is 1500 THB.\n",
            "\n",
            "----------------------------------------\n",
            "Printing receipt\n",
            "Thank you for choosing us as your bank\n"
          ]
        }
      ]
    },
    {
      "cell_type": "code",
      "source": [
        "atm1.withdraw()"
      ],
      "metadata": {
        "colab": {
          "base_uri": "https://localhost:8080/"
        },
        "id": "q9uLEXwzTSFl",
        "outputId": "592b2529-3713-4c06-decf-935dd726dcd1"
      },
      "execution_count": null,
      "outputs": [
        {
          "output_type": "stream",
          "name": "stdout",
          "text": [
            "Withdraw menu\n",
            "press 1 to go back\n",
            "press 2 to withdraw\n",
            "MART choose: 2\n",
            "----------------------------------------\n",
            "How much do you want to withdraw? 4000\n",
            "Pleae try again ! your balance is 1500 THB.\n",
            "Not enough to make a transaction\n",
            "----------------------------------------\n",
            "How much do you want to withdraw? 1250\n",
            "\n",
            "\n",
            "Your transaction is success !\n",
            "You have withdraw 1250 THB.\n",
            "250 THB is balance in your account\n",
            "----------------------------------------\n",
            "Printing receipt\n",
            "Thank you for choosing us as your bank\n"
          ]
        }
      ]
    },
    {
      "cell_type": "code",
      "source": [
        "atm1.check_balance()"
      ],
      "metadata": {
        "colab": {
          "base_uri": "https://localhost:8080/"
        },
        "id": "tja0MeGNTRgx",
        "outputId": "3a529f8f-ec72-4fdc-e0ce-e7efc4561d7f"
      },
      "execution_count": null,
      "outputs": [
        {
          "output_type": "stream",
          "name": "stdout",
          "text": [
            "Avaliable balance : 250 THB\n"
          ]
        }
      ]
    },
    {
      "cell_type": "code",
      "source": [
        "atm1.transfer(200, \"111255\")"
      ],
      "metadata": {
        "colab": {
          "base_uri": "https://localhost:8080/"
        },
        "id": "5K4Do6rabW8m",
        "outputId": "20f929ef-c7b5-4fd7-85ba-23b74d1a07c2"
      },
      "execution_count": null,
      "outputs": [
        {
          "output_type": "stream",
          "name": "stdout",
          "text": [
            "200 THB has been transferred to account 111255.\n",
            "50 THB is balance in your account\n",
            "----------------------------------------\n",
            "Printing receipt\n",
            "Thank you for choosing us as your bank\n"
          ]
        }
      ]
    },
    {
      "cell_type": "code",
      "source": [
        "atm1.check_balance()"
      ],
      "metadata": {
        "colab": {
          "base_uri": "https://localhost:8080/"
        },
        "id": "VerXdAQXbfcX",
        "outputId": "6befc991-0b7c-4c21-b754-703b2ee9c7c4"
      },
      "execution_count": null,
      "outputs": [
        {
          "output_type": "stream",
          "name": "stdout",
          "text": [
            "Avaliable balance : 50 THB\n"
          ]
        }
      ]
    },
    {
      "cell_type": "code",
      "source": [],
      "metadata": {
        "id": "naEMn18LusUT"
      },
      "execution_count": null,
      "outputs": []
    }
  ]
}